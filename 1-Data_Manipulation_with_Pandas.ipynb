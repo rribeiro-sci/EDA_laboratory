{
 "cells": [
  {
   "cell_type": "markdown",
   "id": "7651cc37",
   "metadata": {},
   "source": [
    "<br>\n",
    "<h1 style = \"font-size:50px; font-family:Helvetica ; font-weight : normal; color : #fe346e; text-align: center;\"> Exploratory Data Analysis</h1>\n",
    "<h2 style = \"font-size:40px; font-family:Helvetica ; font-weight : normal; text-align: center;\"> Introduction to Pandas </h2>\n",
    "<br><br>\n",
    "\n",
    "<img src='https://res.cloudinary.com/djz27k5hg/image/upload/v1715612126/EDA/dw1xwbh1g2c85izletjs.png' width=\"200\"  style=\"float:center\" align=\"center\"/>\n",
    "\n",
    "<br>\n",
    "\n",
    "<div style='padding:15px'>\n",
    "<a href=\"https://colab.research.google.com/github/rribeiro-sci/EDA_laboratory/blob/main/1-Introduction_to_Pandas.ipynb\" target=\"_blank\">\n",
    "<img alt=\"Colab\" src=\"https://res.cloudinary.com/djz27k5hg/image/upload/v1637335713/badges/colab-badge_hh0uyl.svg\" height=\"25\" style=\"margin:20px\">\n",
    "</a>\n",
    "\n",
    "</div> \n",
    "\n",
    "### Why Pandas?\n",
    "\n",
    "A lot of waht we'll do with pandas we can repreduce in Excel. But there are specific benefits to using pandas:\n",
    "\n",
    "1. **Scalability**: suitable for handling large datasets. \n",
    "2. **Flexibility**: You can perform a wide range of operations, including data cleaning, filtering, grouping, merging, and statistical analysis.\n",
    "3. **Automation**: easier automation of data manipulation tasks through scripting. Useful to perform repetitive tasks or complex data transformations.\n",
    "4. **Reproducibility**: sharing your pandas code with others, ensuring that they can reproduce your analysis exactly.\n",
    "5. **Integration with Python ecosystem**: seamlessly integration with other libraries such as NumPy, SciPy, Matplotlib, Seaborn, and Scikit-learn.\n",
    "\n",
    "### Pandas Data Structure\n",
    "\n",
    "The two primary data structures of pandas:\n",
    "\n",
    "* Series (1-dimensional)\n",
    "* DataFrame (2-dimensional)\n",
    "\n",
    "<img src='https://res.cloudinary.com/djz27k5hg/image/upload/v1715612125/EDA/vmsevwvkiabucivdxgzs.png' width=\"600\"/>\n",
    "\n",
    "\n",
    "### Pandas Dataframe\n",
    "\n",
    "The Pandas DataFrame is a structure that contains two-dimensional data and its corresponding labels. DataFrames are widely used in data science, machine learning, scientific computing, and many other data-intensive fields.\n",
    "\n",
    "It is similar to SQL tables or the spreadsheets that you work within Excel or Calc. In many cases, DataFrames are faster, easier to use, and more powerful than tables or spreadsheets because they’re an integral part of the Python and NumPy ecosystems.\n",
    "\n",
    "<img src='https://res.cloudinary.com/djz27k5hg/image/upload/v1715612125/EDA/mbenkhqrwyjhmngtravt.png' width=\"900\" style=\"float:left\"/>\n",
    "\n",
    "    \n",
    "<br><br>\n",
    "    \n"
   ]
  },
  {
   "cell_type": "markdown",
   "id": "17d24ce3",
   "metadata": {},
   "source": [
    "## <font color=blue>Step-By-Step Guide To Data Analysis With Pandas In Python<font/>\n",
    "   "
   ]
  },
  {
   "cell_type": "code",
   "execution_count": null,
   "id": "ad1960ba",
   "metadata": {},
   "outputs": [],
   "source": [
    "# Importing pandas library"
   ]
  },
  {
   "cell_type": "markdown",
   "id": "1167236b",
   "metadata": {},
   "source": [
    "⚠️ The common shortcut of Pandas is pd so instead of writing “pandas.” you can write “pd.”, but note that there is a dot after “pd” which is used to call a method from Pandas library."
   ]
  },
  {
   "cell_type": "markdown",
   "id": "67ca1be5",
   "metadata": {},
   "source": [
    "### Loading the data into Pandas (CSVs, Excel, TXTs, etc.)\n",
    "\n",
    "#### About the Data\n",
    "\n",
    "For this tutorial we'll use the **Smoker's Health Data** filtered from a Hypertension Risk Dataset by Md Raihan Kahn and available at [kaggle.com](https://www.kaggle.com/datasets/jaceprater/smokers-health-data/data).\n"
   ]
  },
  {
   "cell_type": "code",
   "execution_count": null,
   "id": "c5ae0fe1",
   "metadata": {},
   "outputs": [],
   "source": [
    "# loading data into a dataframe\n"
   ]
  },
  {
   "cell_type": "code",
   "execution_count": null,
   "id": "e916703c",
   "metadata": {},
   "outputs": [],
   "source": [
    "# visualizing dataframe\n"
   ]
  },
  {
   "cell_type": "markdown",
   "id": "ecc975f3",
   "metadata": {},
   "source": [
    "## Reading Data (Getting Rows, Columns, Cells, Headers, etc.)"
   ]
  },
  {
   "cell_type": "code",
   "execution_count": null,
   "id": "7b8b5264",
   "metadata": {},
   "outputs": [],
   "source": [
    "# Reading Headers\n"
   ]
  },
  {
   "cell_type": "code",
   "execution_count": null,
   "id": "23e246e1",
   "metadata": {},
   "outputs": [],
   "source": [
    "# Reading columns\n"
   ]
  },
  {
   "cell_type": "code",
   "execution_count": null,
   "id": "354b051e",
   "metadata": {},
   "outputs": [],
   "source": [
    "# Reading rows\n"
   ]
  },
  {
   "cell_type": "code",
   "execution_count": null,
   "id": "820fb2c2",
   "metadata": {},
   "outputs": [],
   "source": [
    "# Reading a specific location (row, column)\n"
   ]
  },
  {
   "cell_type": "markdown",
   "id": "a9299113",
   "metadata": {},
   "source": [
    "## Iterate through each Row"
   ]
  },
  {
   "cell_type": "code",
   "execution_count": null,
   "id": "ebb1be72",
   "metadata": {
    "code_folding": []
   },
   "outputs": [],
   "source": []
  },
  {
   "cell_type": "markdown",
   "id": "11dac6a2",
   "metadata": {},
   "source": [
    "## Getting rows based on a specific condition"
   ]
  },
  {
   "cell_type": "code",
   "execution_count": null,
   "id": "342604e0",
   "metadata": {},
   "outputs": [],
   "source": [
    "# using loc\n"
   ]
  },
  {
   "cell_type": "code",
   "execution_count": null,
   "id": "8eb356ea",
   "metadata": {},
   "outputs": [],
   "source": [
    "# using query\n"
   ]
  },
  {
   "cell_type": "code",
   "execution_count": null,
   "id": "62d3186e",
   "metadata": {},
   "outputs": [],
   "source": [
    "# applying multiple conditions\n"
   ]
  },
  {
   "cell_type": "markdown",
   "id": "945fb1e5",
   "metadata": {},
   "source": [
    "⚠️ The **&** symbol represent the boolean \"and\", wherear the **|** represents the boolean \"or\"."
   ]
  },
  {
   "cell_type": "code",
   "execution_count": null,
   "id": "8029bac6",
   "metadata": {},
   "outputs": [],
   "source": [
    "# applying multiple conditions with the query method\n"
   ]
  },
  {
   "cell_type": "markdown",
   "id": "84401ef1",
   "metadata": {},
   "source": [
    "## Handling Missing Values\n",
    "\n",
    "Sometimes our data contain custumizing missing values. For example, maybe the people who we got the data from dind't know what to do with missing values so instead the passed in a string of missing or none. To solve this we can replace such strings by a nan value."
   ]
  },
  {
   "cell_type": "code",
   "execution_count": null,
   "id": "8611107e",
   "metadata": {},
   "outputs": [],
   "source": [
    "# Replacig missing values \n"
   ]
  },
  {
   "cell_type": "code",
   "execution_count": null,
   "id": "e411e4dd",
   "metadata": {},
   "outputs": [],
   "source": [
    "# seeing missing values\n"
   ]
  },
  {
   "cell_type": "markdown",
   "id": "c27a84dd",
   "metadata": {},
   "source": [
    "## Casting datatypes\n",
    "\n",
    "Casting datatypes in pandas is important for ensuring data consistency, accuracy, and enabling appropriate analysis and operations on the data."
   ]
  },
  {
   "cell_type": "code",
   "execution_count": null,
   "id": "8b443168",
   "metadata": {},
   "outputs": [],
   "source": []
  },
  {
   "cell_type": "markdown",
   "id": "7628e822",
   "metadata": {},
   "source": [
    "We see that cigs_per_day is an object meaning that it can combines strings and numbers. We can't perform matematical operations with objects. We need to convert it first to number.\n",
    "\n",
    "⚠️ The np.nan is a float number (decimal) which means that we must to convert the type of cigs_per_day to float."
   ]
  },
  {
   "cell_type": "code",
   "execution_count": null,
   "id": "a702e507",
   "metadata": {},
   "outputs": [],
   "source": []
  },
  {
   "cell_type": "code",
   "execution_count": null,
   "id": "e41a61ac",
   "metadata": {},
   "outputs": [],
   "source": []
  },
  {
   "cell_type": "markdown",
   "id": "ed49522a",
   "metadata": {},
   "source": [
    "## High Level description of your data (min, max, mean, std dev, etc.)"
   ]
  },
  {
   "cell_type": "code",
   "execution_count": null,
   "id": "0c267e1f",
   "metadata": {},
   "outputs": [],
   "source": [
    "# Generating descriptive statistics\n"
   ]
  },
  {
   "cell_type": "markdown",
   "id": "b052e733",
   "metadata": {},
   "source": [
    "**How to describe non-numerical values?**"
   ]
  },
  {
   "cell_type": "code",
   "execution_count": null,
   "id": "cf39b11e",
   "metadata": {},
   "outputs": [],
   "source": [
    "# count values\n"
   ]
  },
  {
   "cell_type": "markdown",
   "id": "362c1e57",
   "metadata": {},
   "source": [
    "## Sorting Values (Alphabetically, Numerically)"
   ]
  },
  {
   "cell_type": "code",
   "execution_count": null,
   "id": "6c6b14cf",
   "metadata": {},
   "outputs": [],
   "source": [
    "#  sorting by a column\n"
   ]
  },
  {
   "cell_type": "markdown",
   "id": "f38684e0",
   "metadata": {},
   "source": [
    "## Making Changes to the DataFrame"
   ]
  },
  {
   "cell_type": "code",
   "execution_count": null,
   "id": "86897fdb",
   "metadata": {},
   "outputs": [],
   "source": [
    "# Changing a specific value\n"
   ]
  },
  {
   "cell_type": "code",
   "execution_count": null,
   "id": "b78f63a5",
   "metadata": {},
   "outputs": [],
   "source": [
    "# adding columns\n"
   ]
  },
  {
   "cell_type": "code",
   "execution_count": null,
   "id": "0d400fa1",
   "metadata": {},
   "outputs": [],
   "source": [
    "# Deliting columns\n"
   ]
  },
  {
   "cell_type": "markdown",
   "id": "e24a7057",
   "metadata": {},
   "source": [
    "⚠️ In Pandas to make changes permanently in a dataframe we need to create a copy of a dataframe or use the option **inplace=True**"
   ]
  },
  {
   "cell_type": "code",
   "execution_count": null,
   "id": "4cc60dd5",
   "metadata": {},
   "outputs": [],
   "source": [
    "# rearanging columns\n"
   ]
  },
  {
   "cell_type": "code",
   "execution_count": null,
   "id": "a9cb6278",
   "metadata": {},
   "outputs": [],
   "source": [
    "# renaming columns\n"
   ]
  },
  {
   "cell_type": "code",
   "execution_count": null,
   "id": "441da6d0",
   "metadata": {},
   "outputs": [],
   "source": [
    "# deliting entries with missing values\n"
   ]
  },
  {
   "cell_type": "markdown",
   "id": "e1450d88",
   "metadata": {},
   "source": [
    "## Aggregate Statistics using Groupby (Sum, Mean, Counting)\n",
    "\n",
    "\n",
    "Aggregation is the process of turning the values of a dataset (or a subset of it) into one single value.\n",
    "\n",
    "Popular *aggregate* functions:\n",
    "* mean()\n",
    "* sum(()\n",
    "* count()\n",
    "* min()\n",
    "* max()\n"
   ]
  },
  {
   "cell_type": "code",
   "execution_count": null,
   "id": "e520a5c0",
   "metadata": {},
   "outputs": [],
   "source": []
  },
  {
   "cell_type": "code",
   "execution_count": null,
   "id": "e4f80d60",
   "metadata": {},
   "outputs": [],
   "source": []
  },
  {
   "cell_type": "markdown",
   "id": "ba4cb4b8",
   "metadata": {},
   "source": [
    "**Groupby groups toghether the values in a column and display all in the same row. THis allows us to perform aggregate functions in those groupings.**\n",
    "\n",
    "<img src='https://res.cloudinary.com/djz27k5hg/image/upload/v1715612126/EDA/hkmne6hdtu1sagwsxd6a.png' width=\"500\"/>\n",
    "\n",
    "It’s just grouping similar values and calculating the given aggregate value (in the above example it was a mean value) for each group."
   ]
  },
  {
   "cell_type": "code",
   "execution_count": null,
   "id": "f6f7ac35",
   "metadata": {},
   "outputs": [],
   "source": []
  },
  {
   "cell_type": "code",
   "execution_count": null,
   "id": "9d2f1fbb",
   "metadata": {},
   "outputs": [],
   "source": [
    "# generating statistics \n"
   ]
  },
  {
   "cell_type": "code",
   "execution_count": null,
   "id": "24c35097",
   "metadata": {
    "code_folding": [],
    "scrolled": true
   },
   "outputs": [],
   "source": [
    "# combining methods\n"
   ]
  },
  {
   "cell_type": "code",
   "execution_count": null,
   "id": "9d533f8f",
   "metadata": {},
   "outputs": [],
   "source": []
  },
  {
   "cell_type": "markdown",
   "id": "1bca2d7c",
   "metadata": {},
   "source": [
    "The agg function in pandas applies one or more aggregation functions to grouped data, returning a DataFrame with the aggregated results."
   ]
  },
  {
   "cell_type": "code",
   "execution_count": null,
   "id": "b167aace",
   "metadata": {},
   "outputs": [],
   "source": []
  },
  {
   "cell_type": "markdown",
   "id": "462f3080",
   "metadata": {},
   "source": [
    "## Saving our Data (CSV, Excel, TXT, etc.)"
   ]
  },
  {
   "cell_type": "code",
   "execution_count": null,
   "id": "9d85a48b",
   "metadata": {},
   "outputs": [],
   "source": [
    "# saving our data to csv\n"
   ]
  },
  {
   "cell_type": "markdown",
   "id": "bebedcf7",
   "metadata": {},
   "source": [
    "# Try yourself\n",
    "\n",
    "\n",
    "1. How many people in our data has 50 or more? *1853*\n",
    "2. How many cigarrets per day do the current smokers smoke? \n",
    "3. How many smokers don't know how many cigarrets per day they smoke?  "
   ]
  }
 ],
 "metadata": {
  "kernelspec": {
   "display_name": "compbio",
   "language": "python",
   "name": "compbio"
  },
  "language_info": {
   "codemirror_mode": {
    "name": "ipython",
    "version": 3
   },
   "file_extension": ".py",
   "mimetype": "text/x-python",
   "name": "python",
   "nbconvert_exporter": "python",
   "pygments_lexer": "ipython3",
   "version": "3.9.18"
  }
 },
 "nbformat": 4,
 "nbformat_minor": 5
}
