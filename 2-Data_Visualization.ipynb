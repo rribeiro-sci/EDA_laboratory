{
 "cells": [
  {
   "cell_type": "markdown",
   "id": "115b494d",
   "metadata": {},
   "source": [
    "<br>\n",
    "<h1 style = \"font-size:50px; font-family:Helvetica ; font-weight : normal; color : #fe346e; text-align: center;\"> Exploratory Data Analysis</h1>\n",
    "<h2 style = \"font-size:40px; font-family:Helvetica ; font-weight : normal; text-align: center;\"> Data Visualization </h2>\n",
    "<br><br>\n",
    "\n",
    "<img src='https://res.cloudinary.com/djz27k5hg/image/upload/v1715612126/EDA/dw1xwbh1g2c85izletjs.png' width=\"200\"  style=\"float:center\" align=\"center\"/>\n",
    "\n",
    "<br>\n",
    "\n",
    "<div style='padding:15px'>\n",
    "<a href=\"https://colab.research.google.com/github/rribeiro-sci/EDA_laboratory/blob/main/2-Data_Visualization.ipynb\" target=\"_blank\">\n",
    "<img alt=\"Colab\" src=\"https://res.cloudinary.com/djz27k5hg/image/upload/v1637335713/badges/colab-badge_hh0uyl.svg\" height=\"25\" style=\"margin:20px\">\n",
    "</a>\n",
    "\n",
    "</div> \n",
    "\n",
    "In part we will use some python libraries to perfrom some analysis on our data:\n",
    "\n",
    "* Pandas\n",
    "* Seaborn and Matplotlib\n",
    "* Scikit-learn\n",
    "\n",
    "\n",
    "\n",
    "# Problem Statement\n",
    "\n",
    "Visululize the relationships between various Healthy and Unhealthy habits to Heart Strokes, and there by predict the stroke probability with best model and hypertuned parameters.\n",
    "\n",
    "\n",
    "# 1. Data Preprocessing\n",
    "\n",
    "In this section, loading of data, visulaizing missing values and feature extraction will be carried out. \n",
    "In the current dataset, there are 11 features and one binary target. A brief information about the features are given below\n",
    "\n",
    "1. **id**: Identification number of the individual.\n",
    "2. **gender**: Gender of the individual.\n",
    "3. **hypertension**: Health related parameter, does person have hypertension.\n",
    "4. **heart_disease**: Health related parameter, does person have heart disease.\n",
    "5. **ever_married**: Personal information, is person married on not?\n",
    "6. **work_type**: Nature of work place.\n",
    "7. **Residence_type**: Residence type of the individual.\n",
    "8. **avg_glucose_level**: average glucose level in blood for the individual.\n",
    "9. **bmi**: body mass index of the individual.\n",
    "10. **smoking_status**: Habitual information. Current smoking status of individual.\n",
    "11. **stroke**: Our taget, is person suffered heart attack?"
   ]
  },
  {
   "cell_type": "code",
   "execution_count": null,
   "id": "ab20bc37",
   "metadata": {},
   "outputs": [],
   "source": [
    "# import pandas\n",
    "import pandas as pd"
   ]
  },
  {
   "cell_type": "code",
   "execution_count": null,
   "id": "af06920a",
   "metadata": {},
   "outputs": [],
   "source": [
    "# Load data into a dataframe\n",
    "df = pd.read_csv('healthcare-dataset-stroke-data.csv')"
   ]
  },
  {
   "cell_type": "code",
   "execution_count": null,
   "id": "56b1ae99",
   "metadata": {},
   "outputs": [],
   "source": [
    "# Visualizeing dataframe\n",
    "df"
   ]
  },
  {
   "cell_type": "markdown",
   "id": "124e2bba",
   "metadata": {},
   "source": [
    "## Initial Insights About Dataset\n",
    "\n",
    "As we can see from the dataframe above that: \n",
    "\n",
    "1. Both Categorical and numerical features are present.\n",
    "    - **Categorical Features**: gender, ever_married, work_type, Residence_type, smoking_status\n",
    "    - **Binary Numerical Features**: hypertension,heart_disease, stroke\n",
    "    - **Continous Numerical Features**: age, avg_glucose_level, bmi \n",
    "2. Data from bmi feature is missing.\n",
    "3. Most of the data is categorical which need a special attention to visulaize those\n",
    "4. Feature extraction can be done by binning the continous features ( age, sugar level, and bmi) and let's keep every things as it is.\n",
    "\n",
    "\n",
    "### Handling missing values"
   ]
  },
  {
   "cell_type": "code",
   "execution_count": null,
   "id": "b877022a",
   "metadata": {},
   "outputs": [],
   "source": [
    "# Checking the missing values:\n",
    "df.info()\n"
   ]
  },
  {
   "cell_type": "code",
   "execution_count": null,
   "id": "df616e42",
   "metadata": {},
   "outputs": [],
   "source": [
    "# Only bmi feature have some missing data,which was be filled with the median of the same column.\n"
   ]
  },
  {
   "cell_type": "markdown",
   "id": "752c5c75-49d0-4ce4-a152-f29ec6e444ca",
   "metadata": {},
   "source": [
    "# 2. Ploting with matplotlib\n",
    "\n",
    "<br><br>\n",
    "\n",
    "<img src='https://res.cloudinary.com/djz27k5hg/image/upload/v1715612125/EDA/ltp08qben9ymxdrt5v7s.webp' width=\"500\"  style=\"float:center\" align=\"center\"/>"
   ]
  },
  {
   "cell_type": "code",
   "execution_count": null,
   "id": "5260bff4",
   "metadata": {},
   "outputs": [],
   "source": [
    "# setting jupyter plotting parameters\n",
    "import matplotlib.pyplot as plt\n",
    "import warnings \n",
    "warnings.filterwarnings('ignore')"
   ]
  },
  {
   "cell_type": "code",
   "execution_count": null,
   "id": "03b5a787",
   "metadata": {},
   "outputs": [],
   "source": []
  },
  {
   "cell_type": "markdown",
   "id": "a7c1836e",
   "metadata": {},
   "source": [
    "# Ploting with matplotlib and seaborn\n",
    "\n",
    "Seaborn:\n",
    "* built on top of matplotlib. \n",
    "* high-level interface for creating attractive statistical graphics, such as heatmaps, violin plots, pair plots, and more. \n",
    "* default aesthetics\n",
    "* it integrates well with Pandas DataFrames and supports features like color palettes, data aggregation, and statistical estimation"
   ]
  },
  {
   "cell_type": "code",
   "execution_count": null,
   "id": "4eed5258",
   "metadata": {},
   "outputs": [],
   "source": [
    "# importing plotting libraries\n",
    "import seaborn as sns\n"
   ]
  },
  {
   "cell_type": "code",
   "execution_count": null,
   "id": "6468fc7c",
   "metadata": {},
   "outputs": [],
   "source": [
    "# the simplest and quiquest way\n"
   ]
  },
  {
   "cell_type": "code",
   "execution_count": null,
   "id": "addaff81",
   "metadata": {},
   "outputs": [],
   "source": [
    "# we can plot distribution of age for both sex\n"
   ]
  },
  {
   "cell_type": "code",
   "execution_count": null,
   "id": "721d8fb3",
   "metadata": {},
   "outputs": [],
   "source": [
    "# We can plot distribution of age for all genders in the same plot\n"
   ]
  },
  {
   "cell_type": "markdown",
   "id": "aa7b8dc4",
   "metadata": {},
   "source": [
    "## Make changes in the plot\n",
    "\n",
    "Seaborn is built on top of matplotblib. Thus we can call matplotlib methods to control all asptects of the plot.\n",
    "\n",
    "\n",
    "\n",
    "Examples: \n",
    "\n",
    "* set title\n",
    "    - plt.title('My Plot', fontsize = 25)\n",
    "* set axis labels\n",
    "    - plt.xlabel('x axis', fontsize = 20)\n",
    "    - plt.ylabel('y axis', fontsize = 20)\n",
    "* change size of ticks\n",
    "    - plt.xticks(fontsize = 20)\n",
    "    - plt.yticks(fontsize = 20)\n",
    "    \n",
    "We can increase the dimentions of the plot passing height and aspect options to the funtion.\n",
    "\n",
    "Finally, seaborn has some predefined themes we can choose: darkgrid, whitegrid, dark, white, ticks\n"
   ]
  },
  {
   "cell_type": "code",
   "execution_count": null,
   "id": "9ff226bb",
   "metadata": {},
   "outputs": [],
   "source": [
    "sns.set_theme(style=\"white\")\n",
    "sns.displot(df, x=\"age\", hue=\"gender\", height=6, aspect=2, legend=True, kde=True)\n",
    "\n",
    "plt.title('Distribution by age', fontsize=25)\n",
    "plt.xticks(fontsize=16)\n",
    "plt.yticks(fontsize=16)\n",
    "plt.xlabel('Age', fontsize=20)\n",
    "plt.ylabel('Freq', fontsize=20)\n",
    "#plt.legend([\"Male\", 'Female',], title='Sex', fontsize='14', title_fontsize='14', facecolor='white')\n",
    "\n",
    "plt.show()\n"
   ]
  },
  {
   "cell_type": "markdown",
   "id": "a43e9d81",
   "metadata": {},
   "source": [
    "# 3. Storyteling with data\n",
    "\n",
    "##  Has age an impact on strokes? "
   ]
  },
  {
   "cell_type": "code",
   "execution_count": null,
   "id": "7bb2b46b",
   "metadata": {},
   "outputs": [],
   "source": [
    "# Heart strokes and Age\n",
    "sns.displot( ... , x=\"age\", height=4, aspect=3, legend=True, kde=True)\n"
   ]
  },
  {
   "cell_type": "markdown",
   "id": "6935de16",
   "metadata": {},
   "source": [
    "## And gender?"
   ]
  },
  {
   "cell_type": "code",
   "execution_count": null,
   "id": "287027d8",
   "metadata": {},
   "outputs": [],
   "source": [
    "# Heart disease and Age and Gender\n",
    "sns.displot(df[df.stroke==1], x=\"age\", hue=... , height=4, aspect=3, legend=True, kde=True)\n"
   ]
  },
  {
   "cell_type": "markdown",
   "id": "d1019938",
   "metadata": {},
   "source": [
    "Age is an important feature. From data it can be seen that old age people are mostly having strokes, compared to younger ones.\n",
    "\n",
    "## Does body glucose levels in a person, propel a heart stroke?"
   ]
  },
  {
   "cell_type": "code",
   "execution_count": null,
   "id": "b12b894a",
   "metadata": {},
   "outputs": [],
   "source": [
    "plt.figure(figsize=(15,6))\n",
    "\n",
    "sns.kdeplot(data = df[df['stroke'] == 0], x = 'avg_glucose_level', shade = True,  alpha = 1, )\n",
    "sns.kdeplot(data = df[df['stroke'] == 1], x = 'avg_glucose_level', shade = True,  alpha = 0.8,)\n",
    "plt.legend([\"Health\", 'Stroke'], fontsize='14', title_fontsize='14', facecolor='white')\n",
    "\n",
    "plt.show()"
   ]
  },
  {
   "cell_type": "markdown",
   "id": "776988d2",
   "metadata": {},
   "source": [
    "Glucose level distribution is skewed towards left and most often strokes can be seen in people with regular glucose levels.\n"
   ]
  },
  {
   "cell_type": "markdown",
   "id": "cffcf8e4",
   "metadata": {},
   "source": [
    "## Analysing Categorical data\n",
    "\n",
    "Overview of the categorical features shows the value counts of the strokes and no strokes for each categorical feature. This overview could give some insight where strokes are high in number.\n",
    "\n",
    "\n",
    "###  Can smoking can induce Stroke, is it true?"
   ]
  },
  {
   "cell_type": "code",
   "execution_count": null,
   "id": "965774bc",
   "metadata": {},
   "outputs": [],
   "source": [
    "sns.countplot(data=df[df.stroke==1], x='stroke',hue='smoking_status', palette='Set1', )\n"
   ]
  },
  {
   "cell_type": "markdown",
   "id": "a79ae4fe",
   "metadata": {},
   "source": [
    "## Correlation Matrix\n",
    "\n",
    "To calculate a correlation matrix e need to convert categorical data into numerical data."
   ]
  },
  {
   "cell_type": "code",
   "execution_count": null,
   "id": "6c1f7c6b",
   "metadata": {},
   "outputs": [],
   "source": []
  },
  {
   "cell_type": "code",
   "execution_count": null,
   "id": "1be6e38c",
   "metadata": {},
   "outputs": [],
   "source": [
    "#Visualize correlation matrix with heat map\n"
   ]
  },
  {
   "cell_type": "markdown",
   "id": "f6575139",
   "metadata": {},
   "source": [
    "## Try yourself:  \n",
    "\n",
    "1. Does body mass index levels in a person propel a heart stroke?"
   ]
  }
 ],
 "metadata": {
  "kernelspec": {
   "display_name": "compbio",
   "language": "python",
   "name": "compbio"
  },
  "language_info": {
   "codemirror_mode": {
    "name": "ipython",
    "version": 3
   },
   "file_extension": ".py",
   "mimetype": "text/x-python",
   "name": "python",
   "nbconvert_exporter": "python",
   "pygments_lexer": "ipython3",
   "version": "3.9.18"
  }
 },
 "nbformat": 4,
 "nbformat_minor": 5
}
