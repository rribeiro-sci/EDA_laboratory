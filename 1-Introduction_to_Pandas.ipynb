{
 "cells": [
  {
   "cell_type": "markdown",
   "id": "7651cc37",
   "metadata": {},
   "source": [
    "<br>\n",
    "<h1 style = \"font-size:50px; font-family:Helvetica ; font-weight : normal; color : #fe346e; text-align: center;\"> Exploratory Data Analysis</h1>\n",
    "<h2 style = \"font-size:40px; font-family:Helvetica ; font-weight : normal; text-align: center;\"> Introduction to Pandas </h2>\n",
    "<br><br>\n",
    "\n",
    "<img src='https://res.cloudinary.com/djz27k5hg/image/upload/v1715612126/EDA/dw1xwbh1g2c85izletjs.png' width=\"200\"  style=\"float:center\" align=\"center\"/>\n",
    "\n",
    "<br>\n",
    "\n",
    "<div style='padding:15px'>\n",
    "<a href=\"https://colab.research.google.com/github/rribeiro-sci/EDA_laboratory/blob/main/1-Introduction_to_Pandas.ipynb\" target=\"_blank\">\n",
    "<img alt=\"Colab\" src=\"https://res.cloudinary.com/djz27k5hg/image/upload/v1637335713/badges/colab-badge_hh0uyl.svg\" height=\"25\" style=\"margin:20px\">\n",
    "</a>\n",
    "\n",
    "</div> \n",
    "\n",
    "### Why Pandas?\n",
    "\n",
    "A lot of waht we'll do with pandas we can repreduce in Excel. But there are specific benefits to using pandas:\n",
    "\n",
    "1. **Scalability**: suitable for handling large datasets. \n",
    "2. **Flexibility**: You can perform a wide range of operations, including data cleaning, filtering, grouping, merging, and statistical analysis.\n",
    "3. **Automation**: easier automation of data manipulation tasks through scripting. Useful to perform repetitive tasks or complex data transformations.\n",
    "4. **Reproducibility**: sharing your pandas code with others, ensuring that they can reproduce your analysis exactly.\n",
    "5. **Integration with Python ecosystem**: seamlessly integration with other libraries such as NumPy, SciPy, Matplotlib, Seaborn, and Scikit-learn.\n",
    "\n",
    "### Pandas Data Structure\n",
    "\n",
    "The two primary data structures of pandas:\n",
    "\n",
    "* Series (1-dimensional)\n",
    "* DataFrame (2-dimensional)\n",
    "\n",
    "<img src='https://res.cloudinary.com/djz27k5hg/image/upload/v1715612125/EDA/vmsevwvkiabucivdxgzs.png' width=\"600\"/>\n",
    "\n",
    "\n",
    "### Pandas Dataframe\n",
    "\n",
    "The Pandas DataFrame is a structure that contains two-dimensional data and its corresponding labels. DataFrames are widely used in data science, machine learning, scientific computing, and many other data-intensive fields.\n",
    "\n",
    "It is similar to SQL tables or the spreadsheets that you work within Excel or Calc. In many cases, DataFrames are faster, easier to use, and more powerful than tables or spreadsheets because they’re an integral part of the Python and NumPy ecosystems.\n",
    "\n",
    "<img src='https://res.cloudinary.com/djz27k5hg/image/upload/v1715612125/EDA/mbenkhqrwyjhmngtravt.png' width=\"900\" style=\"float:left\"/>\n",
    "\n",
    "    \n",
    "<br><br>\n",
    "    \n"
   ]
  },
  {
   "cell_type": "markdown",
   "id": "17d24ce3",
   "metadata": {},
   "source": [
    "## <font color=blue>Step-By-Step Guide To Data Analysis With Pandas In Python<font/>\n",
    "   "
   ]
  },
  {
   "cell_type": "code",
   "execution_count": 2,
   "id": "ad1960ba",
   "metadata": {},
   "outputs": [],
   "source": [
    "import pandas as pd"
   ]
  },
  {
   "cell_type": "markdown",
   "id": "1167236b",
   "metadata": {},
   "source": [
    "⚠️ The common shortcut of Pandas is pd so instead of writing “pandas.” you can write “pd.”, but note that there is a dot after “pd” which is used to call a method from Pandas library."
   ]
  },
  {
   "cell_type": "markdown",
   "id": "67ca1be5",
   "metadata": {},
   "source": [
    "### Loading the data into Pandas (CSVs, Excel, TXTs, etc.)\n",
    "\n",
    "#### About the Data\n",
    "\n",
    "For this tutorial we'll use the **Smoker's Health Data** filtered from a Hypertension Risk Dataset by Md Raihan Kahn and available at [kaggle.com](https://www.kaggle.com/datasets/jaceprater/smokers-health-data/data).\n"
   ]
  },
  {
   "cell_type": "code",
   "execution_count": 3,
   "id": "c5ae0fe1",
   "metadata": {},
   "outputs": [],
   "source": [
    "# loading data into a dataframe\n",
    "df = pd.read_csv('smoking_health_data_final.csv')\n",
    "\n",
    "## Show other ways\n",
    "#pd.read_excel"
   ]
  },
  {
   "cell_type": "code",
   "execution_count": 4,
   "id": "e916703c",
   "metadata": {},
   "outputs": [
    {
     "data": {
      "text/html": [
       "<div>\n",
       "<style scoped>\n",
       "    .dataframe tbody tr th:only-of-type {\n",
       "        vertical-align: middle;\n",
       "    }\n",
       "\n",
       "    .dataframe tbody tr th {\n",
       "        vertical-align: top;\n",
       "    }\n",
       "\n",
       "    .dataframe thead th {\n",
       "        text-align: right;\n",
       "    }\n",
       "</style>\n",
       "<table border=\"1\" class=\"dataframe\">\n",
       "  <thead>\n",
       "    <tr style=\"text-align: right;\">\n",
       "      <th></th>\n",
       "      <th>age</th>\n",
       "      <th>sex</th>\n",
       "      <th>current_smoker</th>\n",
       "      <th>heart_rate</th>\n",
       "      <th>blood_pressure</th>\n",
       "      <th>cigs_per_day</th>\n",
       "      <th>chol</th>\n",
       "    </tr>\n",
       "  </thead>\n",
       "  <tbody>\n",
       "    <tr>\n",
       "      <th>0</th>\n",
       "      <td>54</td>\n",
       "      <td>male</td>\n",
       "      <td>yes</td>\n",
       "      <td>95</td>\n",
       "      <td>110/72</td>\n",
       "      <td>NaN</td>\n",
       "      <td>219.0</td>\n",
       "    </tr>\n",
       "    <tr>\n",
       "      <th>1</th>\n",
       "      <td>45</td>\n",
       "      <td>male</td>\n",
       "      <td>yes</td>\n",
       "      <td>64</td>\n",
       "      <td>121/72</td>\n",
       "      <td>NaN</td>\n",
       "      <td>248.0</td>\n",
       "    </tr>\n",
       "    <tr>\n",
       "      <th>2</th>\n",
       "      <td>58</td>\n",
       "      <td>male</td>\n",
       "      <td>yes</td>\n",
       "      <td>81</td>\n",
       "      <td>127.5/76</td>\n",
       "      <td>Missing</td>\n",
       "      <td>235.0</td>\n",
       "    </tr>\n",
       "    <tr>\n",
       "      <th>3</th>\n",
       "      <td>42</td>\n",
       "      <td>male</td>\n",
       "      <td>yes</td>\n",
       "      <td>90</td>\n",
       "      <td>122.5/80</td>\n",
       "      <td>NaN</td>\n",
       "      <td>225.0</td>\n",
       "    </tr>\n",
       "    <tr>\n",
       "      <th>4</th>\n",
       "      <td>42</td>\n",
       "      <td>male</td>\n",
       "      <td>yes</td>\n",
       "      <td>62</td>\n",
       "      <td>119/80</td>\n",
       "      <td>NaN</td>\n",
       "      <td>226.0</td>\n",
       "    </tr>\n",
       "    <tr>\n",
       "      <th>...</th>\n",
       "      <td>...</td>\n",
       "      <td>...</td>\n",
       "      <td>...</td>\n",
       "      <td>...</td>\n",
       "      <td>...</td>\n",
       "      <td>...</td>\n",
       "      <td>...</td>\n",
       "    </tr>\n",
       "    <tr>\n",
       "      <th>3895</th>\n",
       "      <td>37</td>\n",
       "      <td>male</td>\n",
       "      <td>yes</td>\n",
       "      <td>88</td>\n",
       "      <td>122.5/82.5</td>\n",
       "      <td>60</td>\n",
       "      <td>254.0</td>\n",
       "    </tr>\n",
       "    <tr>\n",
       "      <th>3896</th>\n",
       "      <td>49</td>\n",
       "      <td>male</td>\n",
       "      <td>yes</td>\n",
       "      <td>70</td>\n",
       "      <td>123/75</td>\n",
       "      <td>60</td>\n",
       "      <td>213.0</td>\n",
       "    </tr>\n",
       "    <tr>\n",
       "      <th>3897</th>\n",
       "      <td>56</td>\n",
       "      <td>male</td>\n",
       "      <td>yes</td>\n",
       "      <td>70</td>\n",
       "      <td>125/79</td>\n",
       "      <td>60</td>\n",
       "      <td>246.0</td>\n",
       "    </tr>\n",
       "    <tr>\n",
       "      <th>3898</th>\n",
       "      <td>50</td>\n",
       "      <td>male</td>\n",
       "      <td>yes</td>\n",
       "      <td>85</td>\n",
       "      <td>134/95</td>\n",
       "      <td>60</td>\n",
       "      <td>340.0</td>\n",
       "    </tr>\n",
       "    <tr>\n",
       "      <th>3899</th>\n",
       "      <td>40</td>\n",
       "      <td>male</td>\n",
       "      <td>yes</td>\n",
       "      <td>98</td>\n",
       "      <td>132/86</td>\n",
       "      <td>70</td>\n",
       "      <td>210.0</td>\n",
       "    </tr>\n",
       "  </tbody>\n",
       "</table>\n",
       "<p>3900 rows × 7 columns</p>\n",
       "</div>"
      ],
      "text/plain": [
       "      age   sex current_smoker  heart_rate blood_pressure cigs_per_day   chol\n",
       "0      54  male            yes          95         110/72          NaN  219.0\n",
       "1      45  male            yes          64         121/72          NaN  248.0\n",
       "2      58  male            yes          81       127.5/76      Missing  235.0\n",
       "3      42  male            yes          90       122.5/80          NaN  225.0\n",
       "4      42  male            yes          62         119/80          NaN  226.0\n",
       "...   ...   ...            ...         ...            ...          ...    ...\n",
       "3895   37  male            yes          88     122.5/82.5           60  254.0\n",
       "3896   49  male            yes          70         123/75           60  213.0\n",
       "3897   56  male            yes          70         125/79           60  246.0\n",
       "3898   50  male            yes          85         134/95           60  340.0\n",
       "3899   40  male            yes          98         132/86           70  210.0\n",
       "\n",
       "[3900 rows x 7 columns]"
      ]
     },
     "execution_count": 4,
     "metadata": {},
     "output_type": "execute_result"
    }
   ],
   "source": [
    "# visualizing dataframe\n",
    "df\n",
    "\n",
    "## other ways\n",
    "#df.head()\n",
    "#df.tail()"
   ]
  },
  {
   "cell_type": "markdown",
   "id": "ecc975f3",
   "metadata": {},
   "source": [
    "## Reading Data (Getting Rows, Columns, Cells, Headers, etc.)"
   ]
  },
  {
   "cell_type": "code",
   "execution_count": null,
   "id": "7b8b5264",
   "metadata": {},
   "outputs": [],
   "source": [
    "# Read Headers\n",
    "df.columns"
   ]
  },
  {
   "cell_type": "code",
   "execution_count": null,
   "id": "23e246e1",
   "metadata": {},
   "outputs": [],
   "source": [
    "# Read columns\n",
    "df['age']\n",
    "\n",
    "# Read multiple columns\n",
    "#df[['age', 'chol']]"
   ]
  },
  {
   "cell_type": "code",
   "execution_count": null,
   "id": "354b051e",
   "metadata": {},
   "outputs": [],
   "source": [
    "# Read rows\n",
    "df.iloc[1]\n",
    "\n",
    "#df.iloc[0:5]"
   ]
  },
  {
   "cell_type": "code",
   "execution_count": null,
   "id": "820fb2c2",
   "metadata": {},
   "outputs": [],
   "source": [
    "# Read a specific location (row, column)\n",
    "df.iloc[2,1]"
   ]
  },
  {
   "cell_type": "markdown",
   "id": "a9299113",
   "metadata": {},
   "source": [
    "## Iterate through each Row"
   ]
  },
  {
   "cell_type": "code",
   "execution_count": null,
   "id": "ebb1be72",
   "metadata": {
    "code_folding": []
   },
   "outputs": [],
   "source": [
    "for index, row in df.iterrows():\n",
    "    print(index, row['age'])"
   ]
  },
  {
   "cell_type": "markdown",
   "id": "11dac6a2",
   "metadata": {},
   "source": [
    "## Getting rows based on a specific condition"
   ]
  },
  {
   "cell_type": "code",
   "execution_count": null,
   "id": "342604e0",
   "metadata": {},
   "outputs": [],
   "source": [
    "# using loc\n",
    "df[df.sex == 'female']"
   ]
  },
  {
   "cell_type": "code",
   "execution_count": null,
   "id": "8eb356ea",
   "metadata": {},
   "outputs": [],
   "source": [
    "# using query\n",
    "df.query('sex == \"female\"')"
   ]
  },
  {
   "cell_type": "code",
   "execution_count": null,
   "id": "62d3186e",
   "metadata": {},
   "outputs": [],
   "source": [
    "# applying multiple conditions\n",
    "df[(df.sex=='male') & (df.age > 50)]"
   ]
  },
  {
   "cell_type": "markdown",
   "id": "945fb1e5",
   "metadata": {},
   "source": [
    "⚠️ The **&** symbol represent the boolean \"and\", wherear the **|** represents the boolean \"or\"."
   ]
  },
  {
   "cell_type": "code",
   "execution_count": null,
   "id": "8029bac6",
   "metadata": {},
   "outputs": [],
   "source": [
    "# applying multiple conditions with the query method\n",
    "df.query('sex == \"female\" and age > 50')"
   ]
  },
  {
   "cell_type": "markdown",
   "id": "84401ef1",
   "metadata": {},
   "source": [
    "## Handling Missing Values\n",
    "\n",
    "Sometimes our data contain custumizing missing values. For example, maybe the people who we got the data from dind't know what to do with missing values so instead the passed in a string of missing or none. To solve this we can replace such strings by a nan value."
   ]
  },
  {
   "cell_type": "code",
   "execution_count": 3,
   "id": "8611107e",
   "metadata": {},
   "outputs": [],
   "source": [
    "import numpy as np\n",
    "\n",
    "df.replace(['Missing', 'None'], np.nan, inplace=True)"
   ]
  },
  {
   "cell_type": "code",
   "execution_count": null,
   "id": "e411e4dd",
   "metadata": {},
   "outputs": [],
   "source": [
    "# seeing missing values\n",
    "df.isna()"
   ]
  },
  {
   "cell_type": "markdown",
   "id": "c27a84dd",
   "metadata": {},
   "source": [
    "## Casting datatypes\n",
    "\n",
    "Casting datatypes in pandas is important for ensuring data consistency, accuracy, and enabling appropriate analysis and operations on the data."
   ]
  },
  {
   "cell_type": "code",
   "execution_count": null,
   "id": "8b443168",
   "metadata": {},
   "outputs": [],
   "source": [
    "df.dtypes"
   ]
  },
  {
   "cell_type": "markdown",
   "id": "7628e822",
   "metadata": {},
   "source": [
    "We see that cigs_per_day is an object meaning that it can combines strings and numbers. We can't perform matematical operations with objects. We need to convert it first to number.\n",
    "\n",
    "⚠️ The np.nan is a float number (decimal) which means that we must to convert the type of cigs_per_day to float."
   ]
  },
  {
   "cell_type": "code",
   "execution_count": 4,
   "id": "a702e507",
   "metadata": {},
   "outputs": [],
   "source": [
    "df['cigs_per_day'] = df['cigs_per_day'].astype(float)"
   ]
  },
  {
   "cell_type": "code",
   "execution_count": null,
   "id": "007238fc",
   "metadata": {},
   "outputs": [],
   "source": [
    "df.dtypes"
   ]
  },
  {
   "cell_type": "code",
   "execution_count": null,
   "id": "e41a61ac",
   "metadata": {},
   "outputs": [],
   "source": [
    "df.cigs_per_day.mean()"
   ]
  },
  {
   "cell_type": "markdown",
   "id": "ed49522a",
   "metadata": {},
   "source": [
    "## High Level description of your data (min, max, mean, std dev, etc.)"
   ]
  },
  {
   "cell_type": "code",
   "execution_count": null,
   "id": "0c267e1f",
   "metadata": {},
   "outputs": [],
   "source": [
    "# Generating descriptive statistics\n",
    "df.describe()"
   ]
  },
  {
   "cell_type": "markdown",
   "id": "b052e733",
   "metadata": {},
   "source": [
    "**How to describe non-numerical values?**"
   ]
  },
  {
   "cell_type": "code",
   "execution_count": null,
   "id": "cf39b11e",
   "metadata": {},
   "outputs": [],
   "source": [
    "# count values\n",
    "df['sex'].value_counts()"
   ]
  },
  {
   "cell_type": "code",
   "execution_count": null,
   "id": "66e38cb1",
   "metadata": {},
   "outputs": [],
   "source": [
    "df['cigs_per_day'].value_counts()"
   ]
  },
  {
   "cell_type": "code",
   "execution_count": null,
   "id": "aeb7e43b",
   "metadata": {},
   "outputs": [],
   "source": [
    "df.describe(exclude = ['float', 'int64'])"
   ]
  },
  {
   "cell_type": "markdown",
   "id": "362c1e57",
   "metadata": {},
   "source": [
    "## Sorting Values (Alphabetically, Numerically)"
   ]
  },
  {
   "cell_type": "code",
   "execution_count": null,
   "id": "6c6b14cf",
   "metadata": {},
   "outputs": [],
   "source": [
    "# ascending sorting by a column\n",
    "df.sort_values(by='age')"
   ]
  },
  {
   "cell_type": "code",
   "execution_count": null,
   "id": "5e76ae86",
   "metadata": {},
   "outputs": [],
   "source": [
    "# descending sorting by column\n",
    "df.sort_values(by='age', ascending=False)"
   ]
  },
  {
   "cell_type": "code",
   "execution_count": null,
   "id": "4cad19e0",
   "metadata": {},
   "outputs": [],
   "source": [
    "# sorting valus by multiple columns\n",
    "df.sort_values(by=['age', 'cigs_per_day'], ascending=[False,True]) # the ascending option can take [1,0]"
   ]
  },
  {
   "cell_type": "markdown",
   "id": "f38684e0",
   "metadata": {},
   "source": [
    "## Making Changes to the DataFrame"
   ]
  },
  {
   "cell_type": "code",
   "execution_count": null,
   "id": "86897fdb",
   "metadata": {},
   "outputs": [],
   "source": [
    "# Changing a specific value\n",
    "df.at[0,'cigs_per_day'] = 10\n",
    "\n",
    "df.head()"
   ]
  },
  {
   "cell_type": "code",
   "execution_count": null,
   "id": "b78f63a5",
   "metadata": {},
   "outputs": [],
   "source": [
    "# adding columns\n",
    "df['packs_of_cigs_per_day'] = df.cigs_per_day / 20 \n",
    "df"
   ]
  },
  {
   "cell_type": "code",
   "execution_count": null,
   "id": "0d400fa1",
   "metadata": {},
   "outputs": [],
   "source": [
    "# Deliting columns\n",
    "df.drop(columns=['packs_of_cigs_per_day'])"
   ]
  },
  {
   "cell_type": "markdown",
   "id": "e24a7057",
   "metadata": {},
   "source": [
    "⚠️ In Pandas to make changes permanently in a dataframe we need to create a copy of a dataframe or use the option **inplace=True**"
   ]
  },
  {
   "cell_type": "code",
   "execution_count": null,
   "id": "4cc60dd5",
   "metadata": {},
   "outputs": [],
   "source": [
    "# rearanging columns\n",
    "df[['age', 'sex', 'current_smoker', \n",
    "    'cigs_per_day','packs_of_cigs_per_day','blood_pressure', 'heart_rate', 'chol']]"
   ]
  },
  {
   "cell_type": "code",
   "execution_count": null,
   "id": "a9cb6278",
   "metadata": {},
   "outputs": [],
   "source": [
    "# renaming columns\n",
    "df.rename(columns={'chol':'cholesterol'})"
   ]
  },
  {
   "cell_type": "code",
   "execution_count": null,
   "id": "441da6d0",
   "metadata": {},
   "outputs": [],
   "source": [
    "# deliting entries with missing values\n",
    "df.dropna(axis=0, how='any', subset=['cigs_per_day'])"
   ]
  },
  {
   "cell_type": "markdown",
   "id": "e1450d88",
   "metadata": {},
   "source": [
    "## Aggregate Statistics using Groupby (Sum, Mean, Counting)\n",
    "\n",
    "\n",
    "Aggregation is the process of turning the values of a dataset (or a subset of it) into one single value.\n",
    "\n",
    "Popular *aggregate* functions:\n",
    "* mean()\n",
    "* sum(()\n",
    "* count()\n",
    "* min()\n",
    "* max()\n"
   ]
  },
  {
   "cell_type": "code",
   "execution_count": null,
   "id": "e520a5c0",
   "metadata": {},
   "outputs": [],
   "source": [
    "df.sort_values(by='blood_pressure')[['sex','age']].head(10).groupby('sex').mean()"
   ]
  },
  {
   "cell_type": "code",
   "execution_count": null,
   "id": "e4f80d60",
   "metadata": {},
   "outputs": [],
   "source": [
    "df[['sex','age']].head(10)"
   ]
  },
  {
   "cell_type": "markdown",
   "id": "ba4cb4b8",
   "metadata": {},
   "source": [
    "**Groupby groups toghether the values in a column and display all in the same row. THis allows us to perform aggregate functions in those groupings.**\n",
    "\n",
    "<img src='https://res.cloudinary.com/djz27k5hg/image/upload/v1715612126/EDA/hkmne6hdtu1sagwsxd6a.png' width=\"500\"/>\n",
    "\n",
    "It’s just grouping similar values and calculating the given aggregate value (in the above example it was a mean value) for each group."
   ]
  },
  {
   "cell_type": "code",
   "execution_count": null,
   "id": "f6f7ac35",
   "metadata": {},
   "outputs": [],
   "source": [
    "df.groupby(by='sex').max() # in this case the min() and max() methods return non-numerical values"
   ]
  },
  {
   "cell_type": "code",
   "execution_count": null,
   "id": "9d2f1fbb",
   "metadata": {},
   "outputs": [],
   "source": [
    "# generating statistics \n",
    "df.groupby(by=['sex']).mean(numeric_only=True)"
   ]
  },
  {
   "cell_type": "code",
   "execution_count": null,
   "id": "24c35097",
   "metadata": {
    "code_folding": [],
    "scrolled": true
   },
   "outputs": [],
   "source": [
    "# combining methods\n",
    "df.groupby(by=['age']).mean(numeric_only=True).sort_values(by='cigs_per_day', ascending=False)"
   ]
  },
  {
   "cell_type": "code",
   "execution_count": null,
   "id": "9d533f8f",
   "metadata": {},
   "outputs": [],
   "source": [
    "df.groupby(['sex', 'current_smoker']).mean(numeric_only=True)"
   ]
  },
  {
   "cell_type": "markdown",
   "id": "1bca2d7c",
   "metadata": {},
   "source": [
    "The agg function in pandas applies one or more aggregation functions to grouped data, returning a DataFrame with the aggregated results."
   ]
  },
  {
   "cell_type": "code",
   "execution_count": null,
   "id": "b167aace",
   "metadata": {},
   "outputs": [],
   "source": [
    "df.groupby(by='sex').agg({'cigs_per_day':['mean','count','min', 'max']})"
   ]
  },
  {
   "cell_type": "markdown",
   "id": "462f3080",
   "metadata": {},
   "source": [
    "## Saving our Data (CSV, Excel, TXT, etc.)"
   ]
  },
  {
   "cell_type": "code",
   "execution_count": 5,
   "id": "9d85a48b",
   "metadata": {},
   "outputs": [],
   "source": [
    "# saving our data to csv\n",
    "df.to_csv('mydata.csv', index=False)"
   ]
  },
  {
   "cell_type": "code",
   "execution_count": null,
   "id": "4fb72c20",
   "metadata": {},
   "outputs": [],
   "source": [
    "df.groupby(['current_smoker']).mean(numeric_only=True)"
   ]
  },
  {
   "cell_type": "markdown",
   "id": "bebedcf7",
   "metadata": {},
   "source": [
    "# Try yourself\n",
    "\n",
    "\n",
    "1. How many people in our data has 50 or more? *1853*\n",
    "2. How many cigarrets per day do the current smokers smoke? \n",
    "3. How many smokers don't know how many cigarrets per day they smoke?  "
   ]
  },
  {
   "cell_type": "code",
   "execution_count": null,
   "id": "af7dc1be",
   "metadata": {},
   "outputs": [],
   "source": []
  }
 ],
 "metadata": {
  "kernelspec": {
   "display_name": "compbio",
   "language": "python",
   "name": "compbio"
  },
  "language_info": {
   "codemirror_mode": {
    "name": "ipython",
    "version": 3
   },
   "file_extension": ".py",
   "mimetype": "text/x-python",
   "name": "python",
   "nbconvert_exporter": "python",
   "pygments_lexer": "ipython3",
   "version": "3.9.18"
  }
 },
 "nbformat": 4,
 "nbformat_minor": 5
}
